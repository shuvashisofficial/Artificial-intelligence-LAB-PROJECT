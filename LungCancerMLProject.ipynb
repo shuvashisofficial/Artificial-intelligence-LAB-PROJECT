{
  "nbformat": 4,
  "nbformat_minor": 0,
  "metadata": {
    "colab": {
      "provenance": [],
      "collapsed_sections": [
        "ylrj9w6EaEMG"
      ]
    },
    "kernelspec": {
      "name": "python3",
      "display_name": "Python 3"
    },
    "language_info": {
      "name": "python"
    }
  },
  "cells": [
    {
      "cell_type": "markdown",
      "source": [
        "## Import"
      ],
      "metadata": {
        "id": "ylrj9w6EaEMG"
      }
    },
    {
      "cell_type": "code",
      "source": [
        "import numpy as np\n",
        "import matplotlib.pyplot as plt\n",
        "import pandas as pd"
      ],
      "metadata": {
        "id": "6NKOI84haMB4"
      },
      "execution_count": null,
      "outputs": []
    },
    {
      "cell_type": "code",
      "source": [
        "from sklearn.metrics import accuracy_score\n",
        "from sklearn.metrics import roc_auc_score\n",
        "from sklearn.metrics import f1_score\n",
        "from sklearn.metrics import precision_score\n",
        "from sklearn.metrics import recall_score\n",
        "from sklearn.linear_model import LogisticRegression\n",
        "from sklearn.svm import SVC\n",
        "from sklearn.naive_bayes import GaussianNB\n",
        "from sklearn.tree import DecisionTreeClassifier\n",
        "from sklearn.ensemble import RandomForestClassifier\n",
        "from sklearn.neighbors import KNeighborsClassifier\n",
        "from sklearn.metrics import confusion_matrix\n",
        "import matplotlib.pyplot as plt\n",
        "from sklearn import datasets, metrics, model_selection, svm\n",
        "from sklearn.metrics import confusion_matrix, ConfusionMatrixDisplay\n",
        "from sklearn.metrics import PrecisionRecallDisplay\n",
        "from imblearn.metrics import geometric_mean_score\n",
        "import seaborn as sns\n",
        "from sklearn.neural_network import MLPClassifier\n",
        "from sklearn.metrics import confusion_matrix, ConfusionMatrixDisplay, accuracy_score, f1_score, precision_score, recall_score, roc_curve, RocCurveDisplay\n",
        "from sklearn.ensemble import GradientBoostingClassifier\n",
        "from sklearn.metrics import confusion_matrix, ConfusionMatrixDisplay, accuracy_score, f1_score, precision_score, recall_score\n",
        "from sklearn.pipeline import make_pipeline\n",
        "from sklearn.preprocessing import StandardScaler\n",
        "from sklearn.decomposition import PCA\n",
        "from sklearn.manifold import MDS\n",
        "from sklearn.discriminant_analysis import LinearDiscriminantAnalysis\n",
        "from sklearn.ensemble import ExtraTreesClassifier\n",
        "from sklearn.ensemble import BaggingClassifier\n",
        "from sklearn.linear_model import RidgeClassifier\n",
        "from sklearn.naive_bayes import BernoulliNB"
      ],
      "metadata": {
        "id": "MR0khkGWXsfh"
      },
      "execution_count": null,
      "outputs": []
    },
    {
      "cell_type": "markdown",
      "source": [
        "# Mounting Drive"
      ],
      "metadata": {
        "id": "v7xQZqIMZnWj"
      }
    },
    {
      "cell_type": "code",
      "source": [
        "from google.colab import drive\n",
        "drive.mount('/content/drive')"
      ],
      "metadata": {
        "id": "PMPhIZw2aAYR"
      },
      "execution_count": null,
      "outputs": []
    },
    {
      "cell_type": "code",
      "source": [
        "dataset = pd.read_csv('/content/drive/MyDrive/DatasetAI/lungcancerDataset.csv')\n"
      ],
      "metadata": {
        "id": "6_3J8mSb8Yt1"
      },
      "execution_count": null,
      "outputs": []
    },
    {
      "cell_type": "markdown",
      "source": [
        "# Reading The Dataset"
      ],
      "metadata": {
        "id": "nSArtEeUcFFZ"
      }
    },
    {
      "cell_type": "code",
      "source": [
        "dataset"
      ],
      "metadata": {
        "id": "TgsObgywcT4y"
      },
      "execution_count": null,
      "outputs": []
    },
    {
      "cell_type": "code",
      "source": [
        "dataset.columns"
      ],
      "metadata": {
        "id": "t3k3zWIe-Cr2"
      },
      "execution_count": null,
      "outputs": []
    },
    {
      "cell_type": "markdown",
      "source": [
        "# Data Exploration"
      ],
      "metadata": {
        "id": "92OTV2ohciPK"
      }
    },
    {
      "cell_type": "code",
      "source": [
        "dataset.columns"
      ],
      "metadata": {
        "id": "sislpwlZBuxb"
      },
      "execution_count": null,
      "outputs": []
    },
    {
      "cell_type": "code",
      "source": [
        "df = pd.DataFrame(dataset, columns = ['GENDER', 'AGE', 'SMOKING', 'YELLOW_FINGERS', 'ANXIETY',\n",
        "       'PEER_PRESSURE', 'CHRONIC DISEASE', 'FATIGUE ', 'ALLERGY ', 'WHEEZING',\n",
        "       'ALCOHOL CONSUMING', 'COUGHING', 'SHORTNESS OF BREATH',\n",
        "       'SWALLOWING DIFFICULTY', 'CHEST PAIN', 'LUNG_CANCER'])\n",
        "df.insert(0, 'ID', range(1, len(df) + 1))\n",
        "mapping = {'YES': 1, 'NO': 0}\n",
        "df['LUNG_CANCER'] = df['LUNG_CANCER'].map(mapping)\n",
        "mapping1 = {'F': 1, 'M': 0}\n",
        "df['GENDER'] = df['GENDER'].map(mapping1)\n",
        "\n",
        "\n",
        "trainDataset=df.head(225)\n",
        "testDataset=df.tail(84)\n",
        "level=pd.DataFrame(testDataset,columns=['ID','LUNG_CANCER'])\n",
        "\n",
        "\n",
        "print(df)\n",
        "\n",
        "\n"
      ],
      "metadata": {
        "id": "hHo38SqyCvUd"
      },
      "execution_count": null,
      "outputs": []
    },
    {
      "cell_type": "code",
      "source": [
        "testDataset= testDataset.drop(['LUNG_CANCER'],axis=1)"
      ],
      "metadata": {
        "id": "g3OWD0-4zL8_"
      },
      "execution_count": null,
      "outputs": []
    },
    {
      "cell_type": "markdown",
      "source": [
        "# Re arranging Columns"
      ],
      "metadata": {
        "id": "EF1YTGMDG2P2"
      }
    },
    {
      "cell_type": "code",
      "source": [
        "dataset.info()"
      ],
      "metadata": {
        "id": "MpMy0ku1HCn4"
      },
      "execution_count": null,
      "outputs": []
    },
    {
      "cell_type": "code",
      "source": [
        "trainDataset.info()"
      ],
      "metadata": {
        "id": "GuA_5LpcKTka"
      },
      "execution_count": null,
      "outputs": []
    },
    {
      "cell_type": "code",
      "source": [
        "testDataset.info()"
      ],
      "metadata": {
        "id": "rXQB1KrSKYTk"
      },
      "execution_count": null,
      "outputs": []
    },
    {
      "cell_type": "code",
      "source": [
        "level.info()"
      ],
      "metadata": {
        "id": "3lwUVO2gKd_L"
      },
      "execution_count": null,
      "outputs": []
    },
    {
      "cell_type": "markdown",
      "source": [
        "# Data Preprocess"
      ],
      "metadata": {
        "id": "qjl-d-ruKwqI"
      }
    },
    {
      "cell_type": "code",
      "source": [
        "trainDataset.describe()"
      ],
      "metadata": {
        "id": "lqvb8aBN5yuu"
      },
      "execution_count": null,
      "outputs": []
    },
    {
      "cell_type": "code",
      "source": [
        "trainDataset.corr()"
      ],
      "metadata": {
        "id": "jg2-f9aQRRQ3"
      },
      "execution_count": null,
      "outputs": []
    },
    {
      "cell_type": "markdown",
      "source": [
        "# Data Visualization"
      ],
      "metadata": {
        "id": "aKt69ZPVR-g0"
      }
    },
    {
      "cell_type": "code",
      "source": [
        "trainDataset.LUNG_CANCER.value_counts().plot.bar(color=['cyan', 'lightblue','lightgreen'],title=\"LUNG CANCER YES(1),NO(0)\", xlabel=\"Output class\", ylabel = \"Count\")"
      ],
      "metadata": {
        "id": "uG_N-4tOSDDN"
      },
      "execution_count": null,
      "outputs": []
    },
    {
      "cell_type": "code",
      "source": [
        "temp = trainDataset.query('LUNG_CANCER == 0')\n",
        "sns.set_theme()\n",
        "sns.displot(data=temp.GENDER).set(title=\"Distribution of Gender Among Lung Cancer Probability\", xlabel=\"GENDER\")"
      ],
      "metadata": {
        "id": "906OsE8ET-qi"
      },
      "execution_count": null,
      "outputs": []
    },
    {
      "cell_type": "markdown",
      "source": [
        "# Feature Selection"
      ],
      "metadata": {
        "id": "nlBEIe01VVXn"
      }
    },
    {
      "cell_type": "code",
      "source": [
        "trainDataset.info()"
      ],
      "metadata": {
        "id": "i69w1AG_VZcY"
      },
      "execution_count": null,
      "outputs": []
    },
    {
      "cell_type": "code",
      "source": [
        "testDataset.info()"
      ],
      "metadata": {
        "id": "BgS-PpuIioQC"
      },
      "execution_count": null,
      "outputs": []
    },
    {
      "cell_type": "code",
      "source": [
        "level.info()"
      ],
      "metadata": {
        "id": "uQgmY_gFl-lg"
      },
      "execution_count": null,
      "outputs": []
    },
    {
      "cell_type": "code",
      "source": [
        "X_train = trainDataset.iloc[:, 0:16].values\n",
        "y_train = trainDataset.iloc[:, 16].values"
      ],
      "metadata": {
        "id": "QmmvsT6TjlC-"
      },
      "execution_count": null,
      "outputs": []
    },
    {
      "cell_type": "code",
      "source": [
        "X_test = testDataset.iloc[:, 0:].values\n",
        "y_test = level.iloc[:, 1].values"
      ],
      "metadata": {
        "id": "Ievf6Hj8lQZv"
      },
      "execution_count": null,
      "outputs": []
    },
    {
      "cell_type": "code",
      "source": [
        "print(X_train.shape)\n",
        "print(y_train.shape)\n",
        "print(X_test.shape)\n",
        "print(y_test.shape)"
      ],
      "metadata": {
        "id": "2nqDjemxm494"
      },
      "execution_count": null,
      "outputs": []
    },
    {
      "cell_type": "markdown",
      "source": [
        "# Training"
      ],
      "metadata": {
        "id": "KlN3ABowVaTo"
      }
    },
    {
      "cell_type": "markdown",
      "source": [
        "# LogisticRegression"
      ],
      "metadata": {
        "id": "tfbnyn3bn9ve"
      }
    },
    {
      "cell_type": "code",
      "source": [
        "clf = LogisticRegression(random_state = 0).fit(X_train, y_train)\n",
        "Y_pred = clf.predict(X_test)\n",
        "clf.predict_proba(X_test)\n",
        "\n",
        "cm = confusion_matrix(y_test, Y_pred)\n",
        "cmd = ConfusionMatrixDisplay(cm, display_labels=['Affected','Not Affected'])\n",
        "cmd.plot(cmap=plt.cm.Blues)\n",
        "print('Accuracy score: ', accuracy_score(y_test, Y_pred))\n",
        "print('F1 score: ', f1_score(y_test, Y_pred))\n",
        "print('Precision score: ', precision_score(y_test, Y_pred))\n",
        "print('Recall score: ', recall_score(y_test, Y_pred))\n",
        "from sklearn.metrics import RocCurveDisplay\n",
        "rfc_disp = RocCurveDisplay.from_estimator(clf, X_test, y_test)"
      ],
      "metadata": {
        "id": "ukYztUwFoLp7"
      },
      "execution_count": null,
      "outputs": []
    },
    {
      "cell_type": "markdown",
      "source": [
        "# Svm"
      ],
      "metadata": {
        "id": "joeN0poJDwjk"
      }
    },
    {
      "cell_type": "code",
      "source": [
        "from sklearn.pipeline import make_pipeline\n",
        "from sklearn.preprocessing import StandardScaler\n",
        "clf = make_pipeline(StandardScaler(), SVC(kernel = 'linear',C = 0.1))\n",
        "clf.fit(X_train, y_train)\n",
        "Y_pred= clf.predict(X_test)\n",
        "\n",
        "cm = confusion_matrix(y_test, Y_pred)\n",
        "cmd = ConfusionMatrixDisplay(cm, display_labels=['Affected','Not Affected'])\n",
        "cmd.plot(cmap=plt.cm.Blues)\n",
        "print('Accuracy score: ', accuracy_score(y_test, Y_pred))\n",
        "print('F1 score: ', f1_score(y_test, Y_pred))\n",
        "print('Precision score: ', precision_score(y_test, Y_pred))\n",
        "print('Recall score: ', recall_score(y_test, Y_pred))\n",
        "from sklearn.metrics import RocCurveDisplay\n",
        "rfc_disp = RocCurveDisplay.from_estimator(clf, X_test, y_test)"
      ],
      "metadata": {
        "id": "Z-v0UwH1Dz0e"
      },
      "execution_count": null,
      "outputs": []
    },
    {
      "cell_type": "markdown",
      "source": [
        "# GaussianNB"
      ],
      "metadata": {
        "id": "jquO2iHMD9nl"
      }
    },
    {
      "cell_type": "code",
      "source": [
        "gnb = GaussianNB()\n",
        "gnb.fit(X_train, y_train)\n",
        "Y_pred = gnb.predict(X_test)\n",
        "\n",
        "cm = confusion_matrix(y_test, Y_pred)\n",
        "cmd = ConfusionMatrixDisplay(cm, display_labels=['Affected','Not Affected'])\n",
        "cmd.plot(cmap=plt.cm.Blues)\n",
        "print('Accuracy score: ', accuracy_score(y_test, Y_pred))\n",
        "print('F1 score: ', f1_score(y_test, Y_pred))\n",
        "print('Precision score: ', precision_score(y_test, Y_pred))\n",
        "print('Recall score: ', recall_score(y_test, Y_pred))\n",
        "from sklearn.metrics import RocCurveDisplay\n",
        "rfc_disp = RocCurveDisplay.from_estimator(gnb, X_test, y_test)"
      ],
      "metadata": {
        "id": "AZT8TbwYBMRm"
      },
      "execution_count": null,
      "outputs": []
    },
    {
      "cell_type": "markdown",
      "source": [
        "# KNeighborsClassifier"
      ],
      "metadata": {
        "id": "STT5fOMxEW9l"
      }
    },
    {
      "cell_type": "code",
      "source": [
        "neigh = KNeighborsClassifier(leaf_size =1, n_neighbors = 4,p =1)\n",
        "neigh.fit(X_train, y_train)\n",
        "Y_pred = neigh.predict(X_test)\n",
        "\n",
        "cm = confusion_matrix(y_test, Y_pred)\n",
        "cmd = ConfusionMatrixDisplay(cm, display_labels=['Affected','Not Affected'])\n",
        "cmd.plot(cmap=plt.cm.Blues)\n",
        "print('Accuracy score: ', accuracy_score(y_test, Y_pred))\n",
        "print('F1 score: ', f1_score(y_test, Y_pred))\n",
        "print('Precision score: ', precision_score(y_test, Y_pred))\n",
        "print('Recall score: ', recall_score(y_test, Y_pred))\n",
        "from sklearn.metrics import RocCurveDisplay\n",
        "rfc_disp = RocCurveDisplay.from_estimator(neigh, X_test, y_test)"
      ],
      "metadata": {
        "id": "18Q6KmXLBsVy"
      },
      "execution_count": null,
      "outputs": []
    },
    {
      "cell_type": "markdown",
      "source": [
        "# RandomForestClassifier\n"
      ],
      "metadata": {
        "id": "y7S2z-nbEskf"
      }
    },
    {
      "cell_type": "code",
      "source": [
        "rf = RandomForestClassifier(max_depth = 10,random_state = 0)\n",
        "rf.fit(X_train, y_train)\n",
        "Y_pred = rf.predict(X_test)\n",
        "\n",
        "cm = confusion_matrix(y_test, Y_pred)\n",
        "cmd = ConfusionMatrixDisplay(cm, display_labels=['Affected','Not Affected'])\n",
        "cmd.plot(cmap=plt.cm.Blues)\n",
        "print('Accuracy score: ', accuracy_score(y_test, Y_pred))\n",
        "print('F1 score: ', f1_score(y_test, Y_pred))\n",
        "print('Precision score: ', precision_score(y_test, Y_pred))\n",
        "print('Recall score: ', recall_score(y_test, Y_pred))\n",
        "from sklearn.metrics import RocCurveDisplay\n",
        "rfc_disp = RocCurveDisplay.from_estimator(rf, X_test, y_test)"
      ],
      "metadata": {
        "id": "YViCJ_hcBwfl"
      },
      "execution_count": null,
      "outputs": []
    },
    {
      "cell_type": "markdown",
      "source": [
        "# DecisionTreeClassifier"
      ],
      "metadata": {
        "id": "V4kEJlyhGxrG"
      }
    },
    {
      "cell_type": "code",
      "source": [
        "dt = DecisionTreeClassifier(random_state = 0,max_depth = 8,min_samples_leaf = 1)\n",
        "dt.fit(X_train, y_train)\n",
        "Y_pred = dt.predict(X_test)\n",
        "\n",
        "cm = confusion_matrix(y_test, Y_pred)\n",
        "cmd = ConfusionMatrixDisplay(cm, display_labels=['Affected','Not Affected'])\n",
        "cmd.plot(cmap=plt.cm.Blues)\n",
        "print('Accuracy score: ', accuracy_score(y_test, Y_pred))\n",
        "print('F1 score: ', f1_score(y_test, Y_pred))\n",
        "print('Precision score: ', precision_score(y_test, Y_pred))\n",
        "print('Recall score: ', recall_score(y_test, Y_pred))\n",
        "from sklearn.metrics import RocCurveDisplay\n",
        "rfc_disp = RocCurveDisplay.from_estimator(dt, X_test, y_test)"
      ],
      "metadata": {
        "id": "CQyq8mXNG1qP"
      },
      "execution_count": null,
      "outputs": []
    }
  ]
}